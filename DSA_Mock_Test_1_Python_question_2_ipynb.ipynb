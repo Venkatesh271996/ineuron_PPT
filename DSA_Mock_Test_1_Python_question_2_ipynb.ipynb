{
  "nbformat": 4,
  "nbformat_minor": 0,
  "metadata": {
    "colab": {
      "provenance": []
    },
    "kernelspec": {
      "name": "python3",
      "display_name": "Python 3"
    },
    "language_info": {
      "name": "python"
    }
  },
  "cells": [
    {
      "cell_type": "markdown",
      "source": [
        "First Unique Character in a String\n",
        "\n",
        "Given a string s, find the first non-repeating character in it and return its index. If it does not exist, return -1.\n",
        "\n",
        "Example 1:\n",
        "Input: s = \"leetcode\"\n",
        "Output: 0\n",
        "\n",
        "Example 2:\n",
        "Input: s = \"loveleetcode\"\n",
        "Output: 2\n",
        "\n",
        "Example 3:\n",
        "Input: s = \"aabb\"\n",
        "Output: -1\n",
        "\n",
        "Constraints:\n",
        "a. 1 <= s.length <= 10^5\n",
        "b. s consists of only lowercase English letters."
      ],
      "metadata": {
        "id": "MMKBQH3aUEJj"
      }
    },
    {
      "cell_type": "code",
      "source": [
        "s = \"leetcode\"\n",
        "blank_dict={}\n",
        "for ele in s:\n",
        "  if ele not in blank_dict:\n",
        "    blank_dict[ele]=1\n",
        "  else:\n",
        "    blank_dict[ele]+=1\n",
        "for key_ele in blank_dict.keys():\n",
        "  if blank_dict[key_ele]<2:\n",
        "    output=s.index(key_ele)\n",
        "    break\n",
        "  else:\n",
        "    output=-1\n",
        "\n",
        "print(output)\n"
      ],
      "metadata": {
        "colab": {
          "base_uri": "https://localhost:8080/"
        },
        "id": "YthQAmegUIkg",
        "outputId": "3b4fe647-57a2-4d54-9899-1812e9f0855d"
      },
      "execution_count": 2,
      "outputs": [
        {
          "output_type": "stream",
          "name": "stdout",
          "text": [
            "0\n"
          ]
        }
      ]
    }
  ]
}